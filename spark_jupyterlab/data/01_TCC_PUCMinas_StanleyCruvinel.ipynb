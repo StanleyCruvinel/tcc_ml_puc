{
 "cells": [
  {
   "cell_type": "markdown",
   "id": "senior-distance",
   "metadata": {},
   "source": [
    "# **PucMinas TCC**: Especialização em Ciência de Dados e Big Data \n",
    "### Stanley Cruvinel \n",
    "#### Dados raspados da Fretes da Truckpad pelo AirFlow"
   ]
  },
  {
   "cell_type": "markdown",
   "id": "outstanding-cleanup",
   "metadata": {},
   "source": [
    "## 1. Objetivo\n",
    "\n",
    "Construir 2 Graphos de Origem Destino dos dados de Frete para saber quais as maiores demandas por Fretes.\n",
    "* 1º para Municípios\n",
    "* 2ºpara os Estados"
   ]
  },
  {
   "cell_type": "markdown",
   "id": "false-stupid",
   "metadata": {},
   "source": [
    "## 2. Recurso utilizado será o The Spark Cluster com Pyspark"
   ]
  },
  {
   "cell_type": "markdown",
   "id": "imported-europe",
   "metadata": {},
   "source": [
    "### 2.1.Concecção\n",
    "\n",
    "Para conectar com o cluster do Spark, é criada uma SparkSession object com parâmetros:\n",
    "\n",
    "+ **appName:** nome da aprlicação aprece [Spark Master Web UI](http://localhost:8080/);\n",
    "+ **master:** URL do Spark Master URL, mesmo utilizado pelos Spark Workers;\n",
    "+ **spark.executor.memory:** igual ao docker compose SPARK_WORKER_MEMORY config."
   ]
  },
  {
   "cell_type": "code",
   "execution_count": 1,
   "id": "smooth-hardware",
   "metadata": {},
   "outputs": [],
   "source": [
    "from pyspark.sql import SparkSession\n",
    "from pyspark.sql.functions import *\n",
    "import networkx as nx\n",
    "import pandas as pd\n",
    "from pyvis.network import Network\n",
    "#from IPython.core.display import display, HTML"
   ]
  },
  {
   "cell_type": "code",
   "execution_count": 2,
   "id": "stock-vintage",
   "metadata": {},
   "outputs": [],
   "source": [
    "spark = SparkSession.\\\n",
    "        builder.\\\n",
    "        appName(\"pyspark-notebook-tcc_pucMinas\").\\\n",
    "        master(\"spark://spark-master:7077\").\\\n",
    "        config(\"spark.executor.memory\", \"7G\").\\\n",
    "        getOrCreate()"
   ]
  },
  {
   "cell_type": "code",
   "execution_count": 3,
   "id": "broken-bidder",
   "metadata": {},
   "outputs": [],
   "source": [
    "fretes = spark.read.csv(path=\"data/fretes.csv\", sep=\";\", header=True)"
   ]
  },
  {
   "cell_type": "code",
   "execution_count": 4,
   "id": "appropriate-congo",
   "metadata": {},
   "outputs": [
    {
     "data": {
      "text/plain": [
       "8751"
      ]
     },
     "execution_count": 4,
     "metadata": {},
     "output_type": "execute_result"
    }
   ],
   "source": [
    "fretes.count()"
   ]
  },
  {
   "cell_type": "code",
   "execution_count": 5,
   "id": "involved-polymer",
   "metadata": {},
   "outputs": [
    {
     "name": "stdout",
     "output_type": "stream",
     "text": [
      "+---+----------+---------+-------------------+------------------+-------------+---+----+----------+-------------+-------------+--------------------+--------------------+----+---+---+\n",
      "|_c0|UF_Destino|UF_origem|             Origem|           Destino|           KM|PED|Pton|     Preco|      Produto|      Especie|           Veiculo_1|           Veiculo_2| Ano|Mes|Dia|\n",
      "+---+----------+---------+-------------------+------------------+-------------+---+----+----------+-------------+-------------+--------------------+--------------------+----+---+---+\n",
      "|  0|        SP|       PR|          Arapongas|   Itaquaquecetuba|          616|  0|   0|      null|Não informado|Não informado|             'Truck'|          'Bi-Truck'|2021|  2|  1|\n",
      "|  1|        SC|       CE|          Fortaleza|Balneário Camboriú|         3520|  0|   0|   150,00 |Não informado|Não informado|'Carreta LS Truca...|'Carreta LS Traça...|2021|  2|  1|\n",
      "|  2|        RJ|       RJ|     Rio de Janeiro|    Rio de Janeiro|Não informado|  0|   0|   200,00 |Não informado|Não informado|        'Utilitário'|                null|2021|  2|  1|\n",
      "|  3|        MG|       SP|São José dos Campos|       Divinópolis|          537|  0|   0|   300,00 |Não informado|Não informado|        'Utilitário'|                null|2021|  2|  1|\n",
      "|  4|        PA|       PA|        Paragominas|         Tailândia|          265|  0|   0|     3,00 |Não informado|Não informado|'Carreta LS Truca...|'Carreta LS Traça...|2021|  2|  1|\n",
      "|  5|        SP|       SP|          Rio Claro|    Ribeirão Preto|          162|  0|   0|    25,00 |Não informado|Não informado|          'Toco 3/4'|             'Truck'|2021|  2|  1|\n",
      "|  6|        PA|       PA|              Belém|             Belém|Não informado|  0|   0| 8.800,00 |Não informado|Não informado|'Carreta Toco Sim...|'Carreta Toco (2/...|2021|  2|  1|\n",
      "|  7|        SP|       RS|      Nova Alvorada|           Vinhedo|         1073|  0|   0| 2.000,00 |Não informado|Não informado|              'Toco'|          'Toco 3/4'|2021|  2|  1|\n",
      "|  8|        SP|       SP|          Andradina|             Assis|          300|  0|   0|      null|Não informado|Não informado|             'Truck'|                null|2021|  2|  1|\n",
      "|  9|        SP|       SP|          Andradina|         São Paulo|          626|  0|   0|      null|Não informado|Não informado|             'Truck'|                null|2021|  2|  1|\n",
      "+---+----------+---------+-------------------+------------------+-------------+---+----+----------+-------------+-------------+--------------------+--------------------+----+---+---+\n",
      "only showing top 10 rows\n",
      "\n"
     ]
    }
   ],
   "source": [
    "fretes.show(10)"
   ]
  },
  {
   "cell_type": "markdown",
   "id": "organizational-india",
   "metadata": {},
   "source": [
    "**Um dataframe cidades e outro com UF** "
   ]
  },
  {
   "cell_type": "code",
   "execution_count": 6,
   "id": "electric-antigua",
   "metadata": {},
   "outputs": [],
   "source": [
    "edges_fretes_sc_df = fretes.selectExpr(\"upper(concat(UF_origem,' - ',Origem)) as source\",\n",
    "                            \"upper(concat(UF_Destino,' - ',Destino)) as target\",\n",
    "                            \"KM as km\",\n",
    "                            \"regexp_replace(Preco,'([ˆ.]|[^,]*$)|[ˆ,]','') as preco\").\\\n",
    "                selectExpr(\"*\",\"format_number(preco/km,4) as preco_km\").\\\n",
    "                where(\"not isnull(preco_km) and Pton = 0 and PED = 0\")"
   ]
  },
  {
   "cell_type": "code",
   "execution_count": 7,
   "id": "architectural-purpose",
   "metadata": {},
   "outputs": [],
   "source": [
    "edges_fretesuf_sc_df = fretes.selectExpr(\"upper(UF_origem) as source\",\n",
    "                            \"upper(UF_Destino) as target\",\n",
    "                            \"KM as km\",\n",
    "                            \"regexp_replace(Preco,'([ˆ.]|[^,]*$)|[ˆ,]','') as preco\").\\\n",
    "                selectExpr(\"*\",\"format_number(preco/km,4) as preco_km\").\\\n",
    "                where(\"not isnull(preco_km) and Pton = 0 and PED = 0\")"
   ]
  },
  {
   "cell_type": "code",
   "execution_count": 8,
   "id": "agricultural-syndicate",
   "metadata": {},
   "outputs": [
    {
     "name": "stdout",
     "output_type": "stream",
     "text": [
      "+--------------------------+-------------------------+----+-----+--------+\n",
      "|source                    |target                   |km  |preco|preco_km|\n",
      "+--------------------------+-------------------------+----+-----+--------+\n",
      "|CE - FORTALEZA            |SC - BALNEÁRIO CAMBORIÚ  |3520| 150 |0.0426  |\n",
      "|SP - SÃO JOSÉ DOS CAMPOS  |MG - DIVINÓPOLIS         |537 | 300 |0.5587  |\n",
      "|PA - PARAGOMINAS          |PA - TAILÂNDIA           |265 | 3   |0.0113  |\n",
      "|SP - RIO CLARO            |SP - RIBEIRÃO PRETO      |162 | 25  |0.1543  |\n",
      "|RS - NOVA ALVORADA        |SP - VINHEDO             |1073| 2000|1.8639  |\n",
      "|TO - GURUPI               |GO - APARECIDA DE GOIÂNIA|625 | 1000|1.6000  |\n",
      "|SP - SÃO PAULO            |SP - BAURU               |327 | 200 |0.6116  |\n",
      "|SP - SÃO BERNARDO DO CAMPO|SP - SÃO PAULO           |21  | 318 |15.1429 |\n",
      "|SP - SANTOS               |SP - UBATUBA             |282 | 500 |1.7730  |\n",
      "|RJ - RIO DE JANEIRO       |MG - COIMBRA             |341 | 750 |2.1994  |\n",
      "+--------------------------+-------------------------+----+-----+--------+\n",
      "only showing top 10 rows\n",
      "\n"
     ]
    }
   ],
   "source": [
    "edges_fretes_sc_df.show(10, False)"
   ]
  },
  {
   "cell_type": "code",
   "execution_count": 9,
   "id": "generic-sheep",
   "metadata": {},
   "outputs": [
    {
     "name": "stdout",
     "output_type": "stream",
     "text": [
      "+------+------+----+-----+--------+\n",
      "|source|target|km  |preco|preco_km|\n",
      "+------+------+----+-----+--------+\n",
      "|CE    |SC    |3520| 150 |0.0426  |\n",
      "|SP    |MG    |537 | 300 |0.5587  |\n",
      "|PA    |PA    |265 | 3   |0.0113  |\n",
      "|SP    |SP    |162 | 25  |0.1543  |\n",
      "|RS    |SP    |1073| 2000|1.8639  |\n",
      "|TO    |GO    |625 | 1000|1.6000  |\n",
      "|SP    |SP    |327 | 200 |0.6116  |\n",
      "|SP    |SP    |21  | 318 |15.1429 |\n",
      "|SP    |SP    |282 | 500 |1.7730  |\n",
      "|RJ    |MG    |341 | 750 |2.1994  |\n",
      "+------+------+----+-----+--------+\n",
      "only showing top 10 rows\n",
      "\n"
     ]
    }
   ],
   "source": [
    "edges_fretesuf_sc_df.show(10, False)"
   ]
  },
  {
   "cell_type": "code",
   "execution_count": 10,
   "id": "continent-fleece",
   "metadata": {},
   "outputs": [],
   "source": [
    "nodes_fretes_sc_df = edges_fretes_sc_df.\\\n",
    "                     selectExpr(\"source as label\").\\\n",
    "                     union(edges_fretes_sc_df.\\\n",
    "                     selectExpr(\"target as label\")).\\\n",
    "                     groupBy(\"label\").count().sort(desc(\"count\")).\\\n",
    "                     selectExpr(\"label\",\"count as size\", \"concat('Arestas:',\\\n",
    "                                cast(count as string), ' ',label) as title\").\\\n",
    "                     where(\"size > 4\")"
   ]
  },
  {
   "cell_type": "code",
   "execution_count": 11,
   "id": "engaging-assembly",
   "metadata": {},
   "outputs": [],
   "source": [
    "nodes_fretesuf_sc_df = edges_fretesuf_sc_df.\\\n",
    "                     selectExpr(\"source as label\").\\\n",
    "                     union(edges_fretesuf_sc_df.\\\n",
    "                     selectExpr(\"target as label\")).\\\n",
    "                     groupBy(\"label\").count().sort(desc(\"count\")).\\\n",
    "                     selectExpr(\"label\",\"count as size\", \"concat('Arestas:',\\\n",
    "                                cast(count as string), ' ',label) as title\").\\\n",
    "                     where(\"size > 4\")"
   ]
  },
  {
   "cell_type": "code",
   "execution_count": 12,
   "id": "announced-figure",
   "metadata": {},
   "outputs": [
    {
     "name": "stdout",
     "output_type": "stream",
     "text": [
      "+----------------------------+----+---------------------------------------+\n",
      "|label                       |size|title                                  |\n",
      "+----------------------------+----+---------------------------------------+\n",
      "|BA - SALVADOR               |225 |Arestas:225 BA - SALVADOR              |\n",
      "|RJ - RIO DE JANEIRO         |80  |Arestas:80 RJ - RIO DE JANEIRO         |\n",
      "|RS - TRÊS PASSOS            |60  |Arestas:60 RS - TRÊS PASSOS            |\n",
      "|SP - SÃO PAULO              |44  |Arestas:44 SP - SÃO PAULO              |\n",
      "|PE - JABOATÃO DOS GUARARAPES|23  |Arestas:23 PE - JABOATÃO DOS GUARARAPES|\n",
      "|PI - TERESINA               |22  |Arestas:22 PI - TERESINA               |\n",
      "|PB - BAYEUX                 |21  |Arestas:21 PB - BAYEUX                 |\n",
      "|PA - MARITUBA               |21  |Arestas:21 PA - MARITUBA               |\n",
      "|CE - EUSÉBIO                |21  |Arestas:21 CE - EUSÉBIO                |\n",
      "|BA - VITÓRIA DA CONQUISTA   |21  |Arestas:21 BA - VITÓRIA DA CONQUISTA   |\n",
      "+----------------------------+----+---------------------------------------+\n",
      "only showing top 10 rows\n",
      "\n"
     ]
    }
   ],
   "source": [
    "nodes_fretes_sc_df.show(10,False)"
   ]
  },
  {
   "cell_type": "code",
   "execution_count": 13,
   "id": "hungry-intranet",
   "metadata": {},
   "outputs": [
    {
     "name": "stdout",
     "output_type": "stream",
     "text": [
      "+-----+----+--------------+\n",
      "|label|size|title         |\n",
      "+-----+----+--------------+\n",
      "|BA   |269 |Arestas:269 BA|\n",
      "|SP   |195 |Arestas:195 SP|\n",
      "|RS   |139 |Arestas:139 RS|\n",
      "|RJ   |94  |Arestas:94 RJ |\n",
      "|PE   |60  |Arestas:60 PE |\n",
      "|MG   |55  |Arestas:55 MG |\n",
      "|PA   |42  |Arestas:42 PA |\n",
      "|CE   |37  |Arestas:37 CE |\n",
      "|PR   |30  |Arestas:30 PR |\n",
      "|PI   |24  |Arestas:24 PI |\n",
      "|PB   |24  |Arestas:24 PB |\n",
      "|MT   |20  |Arestas:20 MT |\n",
      "|SC   |17  |Arestas:17 SC |\n",
      "|GO   |15  |Arestas:15 GO |\n",
      "|MA   |15  |Arestas:15 MA |\n",
      "|SE   |14  |Arestas:14 SE |\n",
      "|ES   |7   |Arestas:7 ES  |\n",
      "|AL   |6   |Arestas:6 AL  |\n",
      "|MS   |6   |Arestas:6 MS  |\n",
      "+-----+----+--------------+\n",
      "\n"
     ]
    }
   ],
   "source": [
    "nodes_fretesuf_sc_df.show(30,False)"
   ]
  },
  {
   "cell_type": "code",
   "execution_count": 14,
   "id": "retained-france",
   "metadata": {},
   "outputs": [],
   "source": [
    "nodes_fretes = nodes_fretes_sc_df.toPandas()\n",
    "edges_fretes = edges_fretes_sc_df.toPandas()"
   ]
  },
  {
   "cell_type": "code",
   "execution_count": 15,
   "id": "entire-birthday",
   "metadata": {},
   "outputs": [
    {
     "data": {
      "text/html": [
       "<div>\n",
       "<style scoped>\n",
       "    .dataframe tbody tr th:only-of-type {\n",
       "        vertical-align: middle;\n",
       "    }\n",
       "\n",
       "    .dataframe tbody tr th {\n",
       "        vertical-align: top;\n",
       "    }\n",
       "\n",
       "    .dataframe thead th {\n",
       "        text-align: right;\n",
       "    }\n",
       "</style>\n",
       "<table border=\"1\" class=\"dataframe\">\n",
       "  <thead>\n",
       "    <tr style=\"text-align: right;\">\n",
       "      <th></th>\n",
       "      <th>source</th>\n",
       "      <th>target</th>\n",
       "      <th>km</th>\n",
       "      <th>preco</th>\n",
       "      <th>preco_km</th>\n",
       "    </tr>\n",
       "  </thead>\n",
       "  <tbody>\n",
       "    <tr>\n",
       "      <th>0</th>\n",
       "      <td>CE - FORTALEZA</td>\n",
       "      <td>SC - BALNEÁRIO CAMBORIÚ</td>\n",
       "      <td>3520</td>\n",
       "      <td>150</td>\n",
       "      <td>0.0426</td>\n",
       "    </tr>\n",
       "    <tr>\n",
       "      <th>1</th>\n",
       "      <td>SP - SÃO JOSÉ DOS CAMPOS</td>\n",
       "      <td>MG - DIVINÓPOLIS</td>\n",
       "      <td>537</td>\n",
       "      <td>300</td>\n",
       "      <td>0.5587</td>\n",
       "    </tr>\n",
       "    <tr>\n",
       "      <th>2</th>\n",
       "      <td>PA - PARAGOMINAS</td>\n",
       "      <td>PA - TAILÂNDIA</td>\n",
       "      <td>265</td>\n",
       "      <td>3</td>\n",
       "      <td>0.0113</td>\n",
       "    </tr>\n",
       "    <tr>\n",
       "      <th>3</th>\n",
       "      <td>SP - RIO CLARO</td>\n",
       "      <td>SP - RIBEIRÃO PRETO</td>\n",
       "      <td>162</td>\n",
       "      <td>25</td>\n",
       "      <td>0.1543</td>\n",
       "    </tr>\n",
       "    <tr>\n",
       "      <th>4</th>\n",
       "      <td>RS - NOVA ALVORADA</td>\n",
       "      <td>SP - VINHEDO</td>\n",
       "      <td>1073</td>\n",
       "      <td>2000</td>\n",
       "      <td>1.8639</td>\n",
       "    </tr>\n",
       "    <tr>\n",
       "      <th>...</th>\n",
       "      <td>...</td>\n",
       "      <td>...</td>\n",
       "      <td>...</td>\n",
       "      <td>...</td>\n",
       "      <td>...</td>\n",
       "    </tr>\n",
       "    <tr>\n",
       "      <th>537</th>\n",
       "      <td>SP - SÃO ROQUE</td>\n",
       "      <td>SP - MAIRINQUE</td>\n",
       "      <td>6193</td>\n",
       "      <td>60</td>\n",
       "      <td>0.0097</td>\n",
       "    </tr>\n",
       "    <tr>\n",
       "      <th>538</th>\n",
       "      <td>SP - SÃO ROQUE</td>\n",
       "      <td>SP - MAIRINQUE</td>\n",
       "      <td>6193</td>\n",
       "      <td>60</td>\n",
       "      <td>0.0097</td>\n",
       "    </tr>\n",
       "    <tr>\n",
       "      <th>539</th>\n",
       "      <td>SP - SÃO ROQUE</td>\n",
       "      <td>SP - MAIRINQUE</td>\n",
       "      <td>6193</td>\n",
       "      <td>60</td>\n",
       "      <td>0.0097</td>\n",
       "    </tr>\n",
       "    <tr>\n",
       "      <th>540</th>\n",
       "      <td>PA - SANTARÉM</td>\n",
       "      <td>PE - PETROLINA</td>\n",
       "      <td>2346</td>\n",
       "      <td>2000</td>\n",
       "      <td>0.8525</td>\n",
       "    </tr>\n",
       "    <tr>\n",
       "      <th>541</th>\n",
       "      <td>SP - SANTOS</td>\n",
       "      <td>SP - SÃO PAULO</td>\n",
       "      <td>77</td>\n",
       "      <td>700</td>\n",
       "      <td>9.0909</td>\n",
       "    </tr>\n",
       "  </tbody>\n",
       "</table>\n",
       "<p>542 rows × 5 columns</p>\n",
       "</div>"
      ],
      "text/plain": [
       "                       source                   target    km  preco preco_km\n",
       "0              CE - FORTALEZA  SC - BALNEÁRIO CAMBORIÚ  3520    150   0.0426\n",
       "1    SP - SÃO JOSÉ DOS CAMPOS         MG - DIVINÓPOLIS   537    300   0.5587\n",
       "2            PA - PARAGOMINAS           PA - TAILÂNDIA   265      3   0.0113\n",
       "3              SP - RIO CLARO      SP - RIBEIRÃO PRETO   162     25   0.1543\n",
       "4          RS - NOVA ALVORADA             SP - VINHEDO  1073   2000   1.8639\n",
       "..                        ...                      ...   ...    ...      ...\n",
       "537            SP - SÃO ROQUE           SP - MAIRINQUE  6193     60   0.0097\n",
       "538            SP - SÃO ROQUE           SP - MAIRINQUE  6193     60   0.0097\n",
       "539            SP - SÃO ROQUE           SP - MAIRINQUE  6193     60   0.0097\n",
       "540             PA - SANTARÉM           PE - PETROLINA  2346   2000   0.8525\n",
       "541               SP - SANTOS           SP - SÃO PAULO    77    700   9.0909\n",
       "\n",
       "[542 rows x 5 columns]"
      ]
     },
     "execution_count": 15,
     "metadata": {},
     "output_type": "execute_result"
    }
   ],
   "source": [
    "edges_fretes"
   ]
  },
  {
   "cell_type": "code",
   "execution_count": 16,
   "id": "sunset-notion",
   "metadata": {},
   "outputs": [],
   "source": [
    "G = nx.from_pandas_edgelist(edges_fretes, 'source', 'target', True, nx.DiGraph())"
   ]
  },
  {
   "cell_type": "code",
   "execution_count": 17,
   "id": "spiritual-fashion",
   "metadata": {},
   "outputs": [],
   "source": [
    "nx.set_node_attributes(G, nodes_fretes.set_index('label').to_dict('index'))"
   ]
  },
  {
   "cell_type": "code",
   "execution_count": 18,
   "id": "quantitative-ownership",
   "metadata": {},
   "outputs": [],
   "source": [
    "net = Network(height=\"1500px\", width=\"100%\", bgcolor=\"#222222\", font_color=\"white\",directed=True, notebook=True, heading='Fretes')\n",
    "net.from_nx(G)"
   ]
  },
  {
   "cell_type": "code",
   "execution_count": 19,
   "id": "excess-lambda",
   "metadata": {},
   "outputs": [],
   "source": [
    "options = '''\n",
    "var options = {\n",
    "  \"physics\": {\n",
    "    \"forceAtlas2Based\": {\n",
    "      \"springLength\": 100\n",
    "    },\n",
    "    \"minVelocity\": 0.75,\n",
    "    \"solver\": \"forceAtlas2Based\"\n",
    "  }\n",
    "}'''"
   ]
  },
  {
   "cell_type": "code",
   "execution_count": 20,
   "id": "commercial-navigator",
   "metadata": {},
   "outputs": [
    {
     "data": {
      "text/html": [
       "\n",
       "        <iframe\n",
       "            width=\"100%\"\n",
       "            height=\"1500px\"\n",
       "            src=\"view/tcc_pucminas_cidades.html\"\n",
       "            frameborder=\"0\"\n",
       "            allowfullscreen\n",
       "        ></iframe>\n",
       "        "
      ],
      "text/plain": [
       "<IPython.lib.display.IFrame at 0x7fc3553c2be0>"
      ]
     },
     "execution_count": 20,
     "metadata": {},
     "output_type": "execute_result"
    }
   ],
   "source": [
    "net.set_edge_smooth('dynamic')\n",
    "net.set_options(options)\n",
    "#net.show_buttons(filter_=['physics'])\n",
    "net.show('view/tcc_pucminas_cidades.html')\n",
    "#display(HTML('view/tcc_puc_cidades.html'))"
   ]
  },
  {
   "cell_type": "code",
   "execution_count": 21,
   "id": "outside-driver",
   "metadata": {},
   "outputs": [],
   "source": [
    "nodes_fretesuf = nodes_fretesuf_sc_df.toPandas()\n",
    "edges_fretesuf = edges_fretesuf_sc_df.toPandas()"
   ]
  },
  {
   "cell_type": "code",
   "execution_count": 22,
   "id": "infectious-smart",
   "metadata": {},
   "outputs": [],
   "source": [
    "Guf = nx.from_pandas_edgelist(edges_fretesuf, 'source', 'target', True, nx.DiGraph())"
   ]
  },
  {
   "cell_type": "code",
   "execution_count": 23,
   "id": "capital-length",
   "metadata": {},
   "outputs": [],
   "source": [
    "nx.set_node_attributes(Guf, nodes_fretesuf.set_index('label').to_dict('index'))"
   ]
  },
  {
   "cell_type": "code",
   "execution_count": 24,
   "id": "timely-blast",
   "metadata": {},
   "outputs": [],
   "source": [
    "netuf = Network(height=\"1000px\", width=\"100%\", bgcolor=\"#222222\", font_color=\"white\",directed=True, notebook=True, heading='Fretes')\n",
    "netuf.from_nx(Guf)"
   ]
  },
  {
   "cell_type": "code",
   "execution_count": 25,
   "id": "correct-ireland",
   "metadata": {},
   "outputs": [],
   "source": [
    "options2 = '''\n",
    "var options = {\n",
    "  \"physics\": {\n",
    "    \"forceAtlas2Based\": {\n",
    "      \"springLength\": 100\n",
    "    },\n",
    "    \"minVelocity\": 0.75,\n",
    "    \"solver\": \"forceAtlas2Based\"\n",
    "  }\n",
    "}'''"
   ]
  },
  {
   "cell_type": "code",
   "execution_count": 26,
   "id": "norwegian-archives",
   "metadata": {},
   "outputs": [
    {
     "data": {
      "text/html": [
       "\n",
       "        <iframe\n",
       "            width=\"100%\"\n",
       "            height=\"1000px\"\n",
       "            src=\"view/pucminas_tcc_fretesuf.html\"\n",
       "            frameborder=\"0\"\n",
       "            allowfullscreen\n",
       "        ></iframe>\n",
       "        "
      ],
      "text/plain": [
       "<IPython.lib.display.IFrame at 0x7fc355310518>"
      ]
     },
     "execution_count": 26,
     "metadata": {},
     "output_type": "execute_result"
    }
   ],
   "source": [
    "netuf.set_edge_smooth('dynamic')\n",
    "netuf.set_options(options2)\n",
    "netuf.show('view/pucminas_tcc_fretesuf.html')\n",
    "#display(HTML(''view/pucminas_tcc_fretesuf.html''))"
   ]
  },
  {
   "cell_type": "code",
   "execution_count": null,
   "id": "spiritual-triumph",
   "metadata": {},
   "outputs": [],
   "source": []
  }
 ],
 "metadata": {
  "kernelspec": {
   "display_name": "Python 3",
   "language": "python",
   "name": "python3"
  },
  "language_info": {
   "codemirror_mode": {
    "name": "ipython",
    "version": 3
   },
   "file_extension": ".py",
   "mimetype": "text/x-python",
   "name": "python",
   "nbconvert_exporter": "python",
   "pygments_lexer": "ipython3",
   "version": "3.7.3"
  }
 },
 "nbformat": 4,
 "nbformat_minor": 5
}
